{
 "cells": [
  {
   "cell_type": "markdown",
   "metadata": {
    "application/vnd.databricks.v1+cell": {
     "cellMetadata": {
      "byteLimit": 2048000,
      "rowLimit": 10000
     },
     "inputWidgets": {},
     "nuid": "9702034f-8820-4ea6-8b64-4b785ebb0632",
     "showTitle": false,
     "title": ""
    }
   },
   "source": [
    "### Slider widget"
   ]
  },
  {
   "cell_type": "code",
   "execution_count": 0,
   "metadata": {
    "application/vnd.databricks.v1+cell": {
     "cellMetadata": {
      "byteLimit": 2048000,
      "rowLimit": 10000
     },
     "inputWidgets": {},
     "nuid": "89de9e79-3d2b-4f6b-aad4-d4a9192ea239",
     "showTitle": false,
     "title": ""
    }
   },
   "outputs": [],
   "source": [
    "import plotly.graph_objs as go\n",
    "from ipywidgets import interact, IntSlider\n",
    "import numpy as np\n",
    "\n",
    "def update_plot(i):\n",
    "    x = np.arange(i)\n",
    "    y = x**2\n",
    "    fig = go.Figure(data=[go.Scatter(x=x, y=y)])\n",
    "    fig.show()\n",
    "\n",
    "interact(update_plot, i=IntSlider(min=1, max=100, step=1, value=10))\n"
   ]
  },
  {
   "cell_type": "markdown",
   "metadata": {
    "application/vnd.databricks.v1+cell": {
     "cellMetadata": {
      "byteLimit": 2048000,
      "rowLimit": 10000
     },
     "inputWidgets": {},
     "nuid": "571c7dce-bebb-477f-93ab-1e0d499b3e16",
     "showTitle": false,
     "title": ""
    }
   },
   "source": [
    "### Continuously updating plot"
   ]
  },
  {
   "cell_type": "code",
   "execution_count": 0,
   "metadata": {
    "application/vnd.databricks.v1+cell": {
     "cellMetadata": {
      "byteLimit": 2048000,
      "rowLimit": 10000
     },
     "inputWidgets": {},
     "nuid": "8ca3ffcf-1be7-4f64-9109-a2974d787315",
     "showTitle": false,
     "title": ""
    }
   },
   "outputs": [],
   "source": [
    "import plotly.graph_objs as go\n",
    "from IPython.display import display, clear_output\n",
    "import time\n",
    "import numpy as np\n",
    "\n",
    "# Function to update the plot\n",
    "def update_plot(n):\n",
    "    x = np.arange(n)\n",
    "    y = x ** 2\n",
    "    fig = go.Figure(data=[go.Scatter(x=x, y=y)])\n",
    "    fig.show()\n",
    "\n",
    "# Continuous update loop\n",
    "for i in range(1, 10):  # Adjust the range as needed\n",
    "    clear_output(wait=True)\n",
    "    update_plot(i)\n",
    "    time.sleep(1)  # Update every second\n"
   ]
  },
  {
   "cell_type": "markdown",
   "metadata": {
    "application/vnd.databricks.v1+cell": {
     "cellMetadata": {
      "byteLimit": 2048000,
      "rowLimit": 10000
     },
     "inputWidgets": {},
     "nuid": "bd243f89-9b46-4258-9935-14d106bd984b",
     "showTitle": false,
     "title": ""
    }
   },
   "source": [
    "### Continuously updating Textarea widget and Slider"
   ]
  },
  {
   "cell_type": "code",
   "execution_count": 0,
   "metadata": {
    "application/vnd.databricks.v1+cell": {
     "cellMetadata": {
      "byteLimit": 2048000,
      "rowLimit": 10000
     },
     "inputWidgets": {},
     "nuid": "e045a309-60a9-4d9a-93c5-df3b6111354b",
     "showTitle": false,
     "title": ""
    }
   },
   "outputs": [],
   "source": [
    "from IPython.display import display, clear_output\n",
    "import time\n",
    "import ipywidgets as widgets\n",
    "\n",
    "# Create a text widget\n",
    "text_widget = widgets.Textarea(\n",
    "    value='',\n",
    "    placeholder='Values will appear here',\n",
    "    description='Latest Values:',\n",
    "    disabled=False,\n",
    "    layout={'width': '400px', 'height': '100px'}\n",
    ")\n",
    "\n",
    "# Display the text widget\n",
    "display(text_widget)\n",
    "\n",
    "# Display the slider\n",
    "slider = widgets.IntSlider(value=0, min=0, max=10, description='Current value')\n",
    "display(slider)\n",
    "\n",
    "# Continuous update loop\n",
    "for i in range(1, 10):  # Adjust the range as needed\n",
    "    # Prepare the text with the last three values\n",
    "    new_text = ', '.join(str(j) for j in range(max(1, i-2), i+1))\n",
    "\n",
    "    # Update the text widget and slider\n",
    "    text_widget.value = new_text\n",
    "    slider.value = i\n",
    "\n",
    "    # Wait for a second\n",
    "    time.sleep(1)\n"
   ]
  },
  {
   "cell_type": "markdown",
   "metadata": {
    "application/vnd.databricks.v1+cell": {
     "cellMetadata": {
      "byteLimit": 2048000,
      "rowLimit": 10000
     },
     "inputWidgets": {},
     "nuid": "aa789c7b-e6f7-400e-ad9e-33479891eb98",
     "showTitle": false,
     "title": ""
    }
   },
   "source": [
    "### Formatted HTML"
   ]
  },
  {
   "cell_type": "code",
   "execution_count": 0,
   "metadata": {
    "application/vnd.databricks.v1+cell": {
     "cellMetadata": {
      "byteLimit": 2048000,
      "rowLimit": 10000
     },
     "inputWidgets": {},
     "nuid": "2250170d-a05e-48fa-8bc7-dd2607534fd5",
     "showTitle": false,
     "title": ""
    }
   },
   "outputs": [],
   "source": [
    "from IPython.display import display, clear_output\n",
    "import time\n",
    "import ipywidgets as widgets\n",
    "\n",
    "# Create an HTML widget\n",
    "html_widget = widgets.HTML(\n",
    "    value=\"<h3>Latest Values: </h3>\",\n",
    "    placeholder='Values will appear here',\n",
    "    description='',\n",
    ")\n",
    "\n",
    "# Display the HTML widget\n",
    "display(html_widget)\n",
    "\n",
    "# Continuous update loop\n",
    "for i in range(1, 10):  # Adjust the range as needed\n",
    "    # Prepare the HTML content with the last three values\n",
    "    new_html = \"<h3>Latest Values:</h3><p>\" + ', '.join(str(j) for j in range(max(1, i-2), i+1)) + \"</p>\"\n",
    "\n",
    "    # Update the HTML widget\n",
    "    html_widget.value = new_html\n",
    "\n",
    "    # Wait for a second\n",
    "    time.sleep(1)\n"
   ]
  },
  {
   "cell_type": "code",
   "execution_count": 0,
   "metadata": {
    "application/vnd.databricks.v1+cell": {
     "cellMetadata": {
      "byteLimit": 2048000,
      "rowLimit": 10000
     },
     "inputWidgets": {},
     "nuid": "a127aedb-a329-4bc5-bb6e-dd42425a7faa",
     "showTitle": false,
     "title": ""
    }
   },
   "outputs": [],
   "source": []
  }
 ],
 "metadata": {
  "application/vnd.databricks.v1+notebook": {
   "dashboards": [],
   "language": "python",
   "notebookMetadata": {
    "pythonIndentUnit": 2
   },
   "notebookName": "interactive",
   "widgets": {}
  },
  "kernelspec": {
   "display_name": "Python 3 (ipykernel)",
   "language": "python",
   "name": "python3"
  },
  "language_info": {
   "codemirror_mode": {
    "name": "ipython",
    "version": 3
   },
   "file_extension": ".py",
   "mimetype": "text/x-python",
   "name": "python",
   "nbconvert_exporter": "python",
   "pygments_lexer": "ipython3",
   "version": "3.10.13"
  }
 },
 "nbformat": 4,
 "nbformat_minor": 0
}
